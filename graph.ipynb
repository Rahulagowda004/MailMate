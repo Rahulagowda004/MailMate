{
 "cells": [
  {
   "cell_type": "code",
   "execution_count": 48,
   "id": "9b8082b1",
   "metadata": {},
   "outputs": [],
   "source": [
    "from langgraph.graph import START, END, StateGraph\n",
    "from typing import TypedDict, Sequence, Annotated, Literal\n",
    "from langchain_openai import AzureChatOpenAI\n",
    "from langchain_openai import AzureOpenAIEmbeddings\n",
    "from langgraph.graph import add_messages\n",
    "from langgraph.types import Command\n",
    "from langchain_core.prompts import PromptTemplate\n",
    "from langchain_core.messages import BaseMessage,HumanMessage,AIMessage,SystemMessage\n",
    "from dotenv import load_dotenv\n",
    "import os"
   ]
  },
  {
   "cell_type": "code",
   "execution_count": 49,
   "id": "eff7315f",
   "metadata": {},
   "outputs": [
    {
     "data": {
      "text/plain": [
       "True"
      ]
     },
     "execution_count": 49,
     "metadata": {},
     "output_type": "execute_result"
    }
   ],
   "source": [
    "load_dotenv()"
   ]
  },
  {
   "cell_type": "markdown",
   "id": "950cb96f",
   "metadata": {},
   "source": [
    "LLM AND EMBEDDINGS MODELS"
   ]
  },
  {
   "cell_type": "code",
   "execution_count": 50,
   "id": "be803041",
   "metadata": {},
   "outputs": [],
   "source": [
    "llm = AzureChatOpenAI(\n",
    "    azure_endpoint=os.getenv(\"AZURE_OPENAI_ENDPOINT\"),\n",
    "    azure_deployment=os.getenv(\"AZURE_OPENAI_LLM_DEPLOYMENT\"), \n",
    "    api_version=os.getenv(\"AZURE_OPENAI_API_VERSION\"),\n",
    "    api_key=os.getenv(\"AZURE_OPENAI_API_KEY\"),\n",
    "    )"
   ]
  },
  {
   "cell_type": "code",
   "execution_count": 51,
   "id": "2211d052",
   "metadata": {},
   "outputs": [],
   "source": [
    "embeddings = AzureOpenAIEmbeddings(\n",
    "    azure_endpoint=os.getenv(\"AZURE_OPENAI_ENDPOINT\"),\n",
    "    azure_deployment=os.getenv(\"AZURE_OPENAI_EMBEDDING_DEPLOYMENT\"), \n",
    "    api_version=os.getenv(\"AZURE_OPENAI_API_VERSION\"),\n",
    "    api_key=os.getenv(\"AZURE_OPENAI_API_KEY\"),\n",
    ")"
   ]
  },
  {
   "cell_type": "markdown",
   "id": "722455d1",
   "metadata": {},
   "source": [
    "STATE OF THE GRAPH"
   ]
  },
  {
   "cell_type": "code",
   "execution_count": 52,
   "id": "9eab7442",
   "metadata": {},
   "outputs": [],
   "source": [
    "class State(TypedDict):\n",
    "    messages: Annotated[Sequence[BaseMessage],add_messages]\n",
    "    email : Annotated[str, \"Email address mentioned in the content\"]\n",
    "    job_role : Annotated[str, \"Role mentioned in the content\"]\n",
    "    job_description : Annotated[str, \"Job description mentioned in the content\"]\n",
    "    candidate_summary: Annotated[str, \"Concise summary of candidate's relevant experience for the role\"]\n",
    "    final_email_content: Annotated[str, \"The complete, drafted email for the recruiter\"]"
   ]
  },
  {
   "cell_type": "markdown",
   "id": "2beefe1c",
   "metadata": {},
   "source": [
    "EXTRACTOR AGENT'S CODE"
   ]
  },
  {
   "cell_type": "code",
   "execution_count": 53,
   "id": "937ce8a5",
   "metadata": {},
   "outputs": [],
   "source": [
    "from pydantic import BaseModel, Field\n",
    "from langchain_core.output_parsers import PydanticOutputParser\n",
    "\n",
    "class Format(BaseModel):  # Class names should use PascalCase\n",
    "    Email: str | None = Field(description=\"email provided in the user input\")\n",
    "    Role: int | None = Field(description=\"Role/designation of provided in the user input\")\n",
    "    Job_Description: str | None = Field(description=\"Job description provided in the user input\")"
   ]
  },
  {
   "cell_type": "code",
   "execution_count": null,
   "id": "e1aa199b",
   "metadata": {},
   "outputs": [],
   "source": [
    "extractor_prompt = PromptTemplate(\n",
    "    input_variables=[\"content\"],\n",
    "    template=\"\"\"You are an expert in extracting information from text.\n",
    "    Extract the email address, role, and job description from the following content:\n",
    "\n",
    "    {content}\n",
    "\n",
    "    Provide the extracted information in the following format:\n",
    "    **Email**: <email>\n",
    "    **Role**: <role>\n",
    "    **Job Description**: <job_description>\"\"\",\n",
    ")\n",
    "\n",
    "exactor_llm = llm.with_structured_output(Format)\n",
    "\n",
    "extractor_chain = extractor_prompt | exactor_llm\n",
    "\n",
    "def extractor_agent(state: State) -> Command[Literal[\"rag_agent\"]]:\n",
    "    \"\"\"An agent that extracts email, role and job description from the content provided by the user in order to send to rag agent which extracts relevant information from the resume\n",
    "    \"\"\"\n",
    "    messages = state.get(\"messages\", [])\n",
    "    if not messages: #edge case to handle empty messages\n",
    "        print(\"No messages found in state.\")\n",
    "        return \"error_or_exit\"\n",
    "    last_message = messages[-1].content\n",
    "    response = extractor_chain.invoke({\"content\": last_message})\n",
    "    return Command(\n",
    "        \"rag_agent\",\n",
    "        update={\n",
    "            \"email\": response.get(\"Email\", \"\"),\n",
    "            \"job_role\": response.get(\"Role\", \"\"),\n",
    "            \"job_description\": response.get(\"Job_Description\", \"\"),\n",
    "            \"messages\":[AIMessage(response)],\n",
    "        },\n",
    "    )"
   ]
  },
  {
   "cell_type": "markdown",
   "id": "668e7e29",
   "metadata": {},
   "source": [
    "RAG AGENT CODE"
   ]
  },
  {
   "cell_type": "code",
   "execution_count": 55,
   "id": "830933d1",
   "metadata": {},
   "outputs": [],
   "source": [
    "from langchain_chroma import Chroma\n",
    "from langchain_core.tools import tool\n",
    "from pathlib import Path\n",
    "from utils import get_embeddings"
   ]
  },
  {
   "cell_type": "code",
   "execution_count": 59,
   "id": "e22fee22",
   "metadata": {},
   "outputs": [],
   "source": [
    "# get_embeddings(Path(\"artifacts/pdfs/RahulAGowda's Resume.pdf\", embeddings=embeddings))\n",
    "\n",
    "vectorstore = Chroma(\n",
    "    collection_name=\"resume\",\n",
    "    embedding_function=embeddings,\n",
    "    persist_directory=\"artifacts/embeddings/20250613_124237\",\n",
    ")\n",
    "retriever = vectorstore.as_retriever(\n",
    "    search_type=\"similarity\",\n",
    "    search_kwargs={\"k\": 20}\n",
    ")"
   ]
  },
  {
   "cell_type": "code",
   "execution_count": 60,
   "id": "d5feb8ac",
   "metadata": {},
   "outputs": [],
   "source": [
    "from pydantic import BaseModel, Field\n",
    "from langchain_core.output_parsers import PydanticOutputParser\n",
    "\n",
    "class Format(BaseModel):  # Class names should use PascalCase\n",
    "    Email: str | None = Field(description=\"email provided in the user input\")"
   ]
  },
  {
   "cell_type": "code",
   "execution_count": 61,
   "id": "4c058bc6",
   "metadata": {},
   "outputs": [],
   "source": [
    "@tool\n",
    "def retriever_tool(query: str) -> str:\n",
    "    \"\"\"\n",
    "    This tool searches and returns the information from the Stock Market Performance 2024 document.\n",
    "    \"\"\"\n",
    "\n",
    "    docs = retriever.invoke(query)\n",
    "\n",
    "    if not docs:\n",
    "        return \"I found no relevant information in the Stock Market Performance 2024 document.\"\n",
    "    \n",
    "    results = []\n",
    "    for i, doc in enumerate(docs):\n",
    "        results.append(f\"Document {i+1}:\\n{doc.page_content}\")\n",
    "    \n",
    "    return \"\\n\\n\".join(results)\n",
    "\n",
    "\n",
    "tools = [retriever_tool]\n",
    "\n",
    "RAG_llm = llm.bind_tools(tools)"
   ]
  },
  {
   "cell_type": "code",
   "execution_count": 63,
   "id": "ccb2d554",
   "metadata": {},
   "outputs": [],
   "source": [
    "RAG_prompt = PromptTemplate(\n",
    "    input_variables=[\"content\"],\n",
    "    template=\n",
    "    \"\"\"\n",
    "    You are an expert career advisor and content synthesizer. Your task is to analyze the provide job role and job description and synthesize relevant information from the provided resume content to create a tailored response.\n",
    "    \n",
    "    Use the following job role and job description to guide your synthesis:\n",
    "    **Job Role**: {job_role}\n",
    "    **Job Description**: {job_description}\n",
    "    \n",
    "    **output format**:\n",
    "    **candidate_summary**: <summary of candidate's relevant experience for the role>\n",
    "    \"\"\"\n",
    ")\n",
    "\n",
    "RAG_chain = RAG_prompt | RAG_llm\n",
    "\n",
    "def rag_agent(state: State) -> Command[Literal[\"Mailer\"]]:\n",
    "    messages_content = state.get(\"messages\", [])\n",
    "    job_role = messages_content[0] if len(messages_content) > 0 else \"\"\n",
    "    job_description = messages_content[1] if len(messages_content) > 1 else \"\"\n",
    "    if not job_role and not job_description:  # edge case to handle empty messages\n",
    "        print(\"No messages found in state.\")\n",
    "        return \"error_or_exit\"\n",
    "    response = RAG_chain.invoke({\"job_role\": job_role, \"job_description\": job_description})\n",
    "    return Command(\n",
    "        \"Mailer\",\n",
    "        update = {\n",
    "            \"candidate_summary\": response.content,\n",
    "            \"messages\": [AIMessage(response)],\n",
    "        },\n",
    "    )"
   ]
  },
  {
   "cell_type": "markdown",
   "id": "ff34f024",
   "metadata": {},
   "source": [
    "MAILER AGENT CODE"
   ]
  },
  {
   "cell_type": "code",
   "execution_count": null,
   "id": "58fecd42",
   "metadata": {},
   "outputs": [],
   "source": [
    "from langchain_google_community.gmail.utils import (\n",
    "    build_resource_service,\n",
    "    get_gmail_credentials,\n",
    ")\n",
    "from langgraph.prebuilt import create_react_agent\n",
    "from langchain_google_community import GmailToolkit\n",
    "\n",
    "token = os.getenv(\"TOKEN\")\n",
    "client_secrets_file = os.getenv(\"CLIENT_SECRET_FILE_PATH\")\n",
    "credentials = get_gmail_credentials(\n",
    "    token_file=token,\n",
    "    scopes=[\"https://mail.google.com/\"],\n",
    "    client_secrets_file=client_secrets_file,\n",
    ")\n",
    "\n",
    "api_resource = build_resource_service(credentials=credentials)\n",
    "toolkit = GmailToolkit(api_resource=api_resource)\n",
    "tools = toolkit.get_tools()"
   ]
  },
  {
   "cell_type": "code",
   "execution_count": null,
   "id": "e94d0946",
   "metadata": {},
   "outputs": [],
   "source": [
    "mail_prompt = PromptTemplate(\n",
    "    input_variables=[\"candidate_summary\", \"target_role\", \"company_name\"],\n",
    "    template=\"\"\"\n",
    "    You're an expert email writer. Your job is to draft a professional and concise email from a job candidate to a recruiter.\n",
    "\n",
    "    **Goal:** Highlight the candidate's suitability for the **{target_role}** at **{company_name}** using the provided summary.\n",
    "\n",
    "    **Information to use:**\n",
    "    - **Candidate Summary:** {candidate_summary} (This is the core content for the email body)\n",
    "    - **Target Role:** {target_role}\n",
    "    - **Company Name:** {company_name} (If not specific, use \"your company\" or \"your team\")\n",
    "\n",
    "    **Email Guidelines:**\n",
    "    - **Subject:** Clear and professional (e.g., \"Application for [Target Role]\").\n",
    "    - **Greeting:** Polite and standard (e.g., \"Dear Hiring Team,\").\n",
    "    - **Body:** Briefly state interest, then integrate the `candidate_summary` to show a strong match with the role. Be direct and impactful.\n",
    "    - **Closing:** Professional call to action for an interview, followed by a standard closing.\n",
    "    - **Signature:** Use \"Candidate Name\" as a placeholder.\n",
    "    - **Tone:** Confident, professional, and to the point.\n",
    "\n",
    "    **Draft the complete email. Do NOT include any extra text before or after the email.**\n",
    "    \"\"\"\n",
    ")\n",
    "\n",
    "llm = llm.bind_tools(tools)\n",
    "\n",
    "mail_chain = mail_prompt | llm\n",
    "\n",
    "def mail_agent(state: State) -> Literal[\"END\"]:\n",
    "    \"An agent that composes the final professional email to recruiters.\"\n",
    "\n",
    "    # Retrieve all necessary information from the state\n",
    "    candidate_summary = state.get(\"candidate_summary\", \"\")\n",
    "    candidate_email = state.get(\"email\", \"\") # Using 'email' from state as candidate_email\n",
    "    target_role = state.get(\"role\", \"\")\n",
    "    job_description = state.get(\"job_description\", \"\")\n",
    "    company_name = state.get(\"company_name\", \"your team\") # Use a default if not found\n",
    "\n",
    "    if not all([candidate_summary, candidate_email, target_role, job_description]):\n",
    "        print(\"Missing essential information to compose email (summary, email, role, or job description).\")\n",
    "        return \"error_node\"\n",
    "    final_email_content = mail_chain.invoke({\n",
    "        \"candidate_summary\": candidate_summary,\n",
    "        \"candidate_email\": candidate_email,\n",
    "        \"target_role\": target_role,\n",
    "        \"job_description\": job_description,\n",
    "        \"company_name\": company_name\n",
    "    })\n",
    "\n",
    "    print(f\"Generated Email Subject: (See email content for subject)\")\n",
    "    print(f\"Generated Email Content: \\n{final_email_content}\")\n",
    "\n",
    "    state[\"final_email_content\"] = final_email_content\n",
    "\n",
    "    return \"END\""
   ]
  },
  {
   "cell_type": "code",
   "execution_count": null,
   "id": "8c215152",
   "metadata": {},
   "outputs": [],
   "source": []
  }
 ],
 "metadata": {
  "kernelspec": {
   "display_name": "MailMate (3.13.3)",
   "language": "python",
   "name": "python3"
  },
  "language_info": {
   "codemirror_mode": {
    "name": "ipython",
    "version": 3
   },
   "file_extension": ".py",
   "mimetype": "text/x-python",
   "name": "python",
   "nbconvert_exporter": "python",
   "pygments_lexer": "ipython3",
   "version": "3.13.3"
  }
 },
 "nbformat": 4,
 "nbformat_minor": 5
}
