{
 "cells": [
  {
   "cell_type": "code",
   "execution_count": 18,
   "id": "9b8082b1",
   "metadata": {},
   "outputs": [],
   "source": [
    "from langgraph.graph import START, END, StateGraph\n",
    "from typing import TypedDict, Sequence, Annotated, Literal\n",
    "from langgraph.graph import add_messages\n",
    "from langgraph.types import Command\n",
    "from langchain_core.prompts import PromptTemplate\n",
    "from langchain_core.messages import BaseMessage,HumanMessage,AIMessage,SystemMessage\n",
    "from langchain_google_genai import ChatGoogleGenerativeAI\n",
    "from dotenv import load_dotenv  "
   ]
  },
  {
   "cell_type": "code",
   "execution_count": 3,
   "id": "eff7315f",
   "metadata": {},
   "outputs": [
    {
     "data": {
      "text/plain": [
       "True"
      ]
     },
     "execution_count": 3,
     "metadata": {},
     "output_type": "execute_result"
    }
   ],
   "source": [
    "load_dotenv()"
   ]
  },
  {
   "cell_type": "code",
   "execution_count": 16,
   "id": "cdb311c7",
   "metadata": {},
   "outputs": [],
   "source": [
    "llm = ChatGoogleGenerativeAI(model = \"gemini-2.0-flash\")"
   ]
  },
  {
   "cell_type": "code",
   "execution_count": 11,
   "id": "9eab7442",
   "metadata": {},
   "outputs": [],
   "source": [
    "class State(TypedDict):\n",
    "    messages: Annotated[Sequence[BaseMessage],add_messages]\n",
    "    email : Annotated[str, \"Email address mentioned in the content\"]\n",
    "    role : Annotated[str, \"Role mentioned in the content\"]\n",
    "    job_description : Annotated[str, \"Job description mentioned in the content\"]"
   ]
  },
  {
   "cell_type": "markdown",
   "id": "2beefe1c",
   "metadata": {},
   "source": [
    "EXTRACTOR AGENT'S CODE"
   ]
  },
  {
   "cell_type": "code",
   "execution_count": 19,
   "id": "e1aa199b",
   "metadata": {},
   "outputs": [],
   "source": [
    "extractor_prompt = PromptTemplate(\n",
    "    input_variables=[\"content\"],\n",
    "    template=\"\"\"You are an expert in extracting information from text.\n",
    "    Extract the email address, role, and job description from the following content:\n",
    "\n",
    "    {content}\n",
    "\n",
    "    Provide the extracted information in the following format:\n",
    "    Email: <email>\n",
    "    Role: <role>\n",
    "    Job Description: <job_description>\"\"\",\n",
    ")\n",
    "\n",
    "extractor_chain = extractor_prompt | llm\n",
    "\n",
    "def extractor_agent(state: State) -> Command[Literal[\"rag_agent\"]]:\n",
    "    \"An agent that extracts email, role and job description from the content provided by the user in order to send to rag agent which extracts relevant information from the resume\"\n",
    "    messages = state.get(\"messages\", [])\n",
    "    if not messages: #edge case to handle empty messages\n",
    "        print(\"No messages found in state.\")\n",
    "        return \"error_or_exit\"\n",
    "    last_message = messages[-1].content\n",
    "    response = extractor_chain.invoke({\"content\": last_message})\n",
    "    return Command(\n",
    "        \"rag_agent\",\n",
    "        update={\n",
    "            \"email\": response.get(\"Email\", \"\"),\n",
    "            \"role\": response.get(\"Role\", \"\"),\n",
    "            \"job_description\": response.get(\"Job Description\", \"\"),\n",
    "            \"messages\": messages,\n",
    "        },\n",
    "    )"
   ]
  },
  {
   "cell_type": "markdown",
   "id": "668e7e29",
   "metadata": {},
   "source": [
    "RAG AGENT CODE"
   ]
  },
  {
   "cell_type": "code",
   "execution_count": null,
   "id": "830933d1",
   "metadata": {},
   "outputs": [],
   "source": [
    "from langchain_community.document_loaders import PyPDFLoader\n",
    "from langchain.text_splitter import RecursiveCharacterTextSplitter\n",
    "from langchain_chroma import Chroma\n",
    "from langchain_core.tools import tool"
   ]
  }
 ],
 "metadata": {
  "kernelspec": {
   "display_name": "MailMate (3.13.3)",
   "language": "python",
   "name": "python3"
  },
  "language_info": {
   "codemirror_mode": {
    "name": "ipython",
    "version": 3
   },
   "file_extension": ".py",
   "mimetype": "text/x-python",
   "name": "python",
   "nbconvert_exporter": "python",
   "pygments_lexer": "ipython3",
   "version": "3.13.3"
  }
 },
 "nbformat": 4,
 "nbformat_minor": 5
}
