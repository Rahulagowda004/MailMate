{
 "cells": [
  {
   "cell_type": "code",
   "execution_count": 146,
   "id": "9b8082b1",
   "metadata": {},
   "outputs": [],
   "source": [
    "from langgraph.graph import START, END, StateGraph\n",
    "from typing import TypedDict, Sequence, Annotated, Literal\n",
    "from langchain_openai import AzureChatOpenAI\n",
    "from langchain_openai import AzureOpenAIEmbeddings\n",
    "from langgraph.graph import add_messages\n",
    "from langgraph.types import Command\n",
    "from langchain_core.prompts import PromptTemplate\n",
    "from langchain_core.messages import BaseMessage,HumanMessage,AIMessage,SystemMessage\n",
    "from dotenv import load_dotenv\n",
    "from logger import logging\n",
    "import os"
   ]
  },
  {
   "cell_type": "code",
   "execution_count": 147,
   "id": "eff7315f",
   "metadata": {},
   "outputs": [
    {
     "data": {
      "text/plain": [
       "True"
      ]
     },
     "execution_count": 147,
     "metadata": {},
     "output_type": "execute_result"
    }
   ],
   "source": [
    "load_dotenv()"
   ]
  },
  {
   "cell_type": "markdown",
   "id": "950cb96f",
   "metadata": {},
   "source": [
    "LLM AND EMBEDDINGS MODELS"
   ]
  },
  {
   "cell_type": "code",
   "execution_count": 148,
   "id": "be803041",
   "metadata": {},
   "outputs": [],
   "source": [
    "llm = AzureChatOpenAI(\n",
    "    azure_endpoint=os.getenv(\"AZURE_OPENAI_ENDPOINT\"),\n",
    "    azure_deployment=os.getenv(\"AZURE_OPENAI_LLM_DEPLOYMENT\"), \n",
    "    api_version=os.getenv(\"AZURE_OPENAI_API_VERSION\"),\n",
    "    api_key=os.getenv(\"AZURE_OPENAI_API_KEY\"),\n",
    "    )"
   ]
  },
  {
   "cell_type": "code",
   "execution_count": 149,
   "id": "2211d052",
   "metadata": {},
   "outputs": [],
   "source": [
    "embeddings = AzureOpenAIEmbeddings(\n",
    "    azure_endpoint=os.getenv(\"AZURE_OPENAI_ENDPOINT\"),\n",
    "    azure_deployment=os.getenv(\"AZURE_OPENAI_EMBEDDING_DEPLOYMENT\"), \n",
    "    api_version=os.getenv(\"AZURE_OPENAI_API_VERSION\"),\n",
    "    api_key=os.getenv(\"AZURE_OPENAI_API_KEY\"),\n",
    ")"
   ]
  },
  {
   "cell_type": "markdown",
   "id": "722455d1",
   "metadata": {},
   "source": [
    "STATE OF THE GRAPH"
   ]
  },
  {
   "cell_type": "code",
   "execution_count": 150,
   "id": "9eab7442",
   "metadata": {},
   "outputs": [],
   "source": [
    "class State(TypedDict):\n",
    "    messages: Annotated[Sequence[BaseMessage],add_messages]\n",
    "    email : Annotated[str, \"Email address mentioned in the content\"]\n",
    "    job_role : Annotated[str, \"Role mentioned in the content\"]\n",
    "    job_description : Annotated[str, \"Job description mentioned in the content\"]\n",
    "    candidate_summary: Annotated[str, \"Concise summary of candidate's relevant experience for the role\"]\n",
    "    final_email_content: Annotated[str, \"The complete, drafted email for the recruiter\"]"
   ]
  },
  {
   "cell_type": "markdown",
   "id": "2beefe1c",
   "metadata": {},
   "source": [
    "EXTRACTOR AGENT'S CODE"
   ]
  },
  {
   "cell_type": "code",
   "execution_count": null,
   "id": "937ce8a5",
   "metadata": {},
   "outputs": [],
   "source": [
    "from pydantic import BaseModel, Field\n",
    "from langchain_core.output_parsers import PydanticOutputParser\n",
    "\n",
    "class Format(BaseModel):  # Class names should use PascalCase\n",
    "    Email: str = Field(description=\"email provided in the user input or default to 'rahulag5282@gmail.com\")\n",
    "    Role: str = Field(description=\"Role/designation of provided in the user input or default to 'AI Engineer'\")\n",
    "    Job_Description: str = Field(description=\"Job description provided in the user input\")"
   ]
  },
  {
   "cell_type": "code",
   "execution_count": 152,
   "id": "e1aa199b",
   "metadata": {},
   "outputs": [],
   "source": [
    "extractor_prompt = PromptTemplate(\n",
    "    input_variables=[\"content\"],\n",
    "    template=\"\"\"You are an expert in extracting information from text.\n",
    "    Extract the email address, role, and job description from the following content:\n",
    "\n",
    "    {content}\n",
    "\n",
    "    Provide the extracted information in the following format:\n",
    "    **Email**: <email>\n",
    "    **Role**: <role>\n",
    "    **Job Description**: <job_description>\"\"\",\n",
    ")\n",
    "\n",
    "exactor_llm = llm.with_structured_output(Format)\n",
    "\n",
    "extractor_chain = extractor_prompt | exactor_llm\n",
    "\n",
    "def extractor_agent(state: State) -> Command[Literal[\"rag_agent\"]]:\n",
    "    \"\"\"An agent that extracts email, role and job description from the content provided by the user in order to send to rag agent which extracts relevant information from the resume\n",
    "    \"\"\"\n",
    "    try:\n",
    "        messages = state.get(\"messages\", [])\n",
    "        if not messages: #edge case to handle empty messages\n",
    "            print(\"No messages found in state.\")\n",
    "            return \"error_or_exit\"\n",
    "        last_message = messages[-1].content\n",
    "        \n",
    "        logging.info(f\"Extracting information from message: {last_message}\")\n",
    "        \n",
    "        response = extractor_chain.invoke({\"content\": last_message})\n",
    "        \n",
    "        logging.info(f\"Extracted information: {response}\")\n",
    "        \n",
    "        return Command(\n",
    "            \"rag_agent\",\n",
    "            update={\n",
    "                \"email\": response.get(\"Email\", \"\"),\n",
    "                \"job_role\": response.get(\"Role\", \"\"),\n",
    "                \"job_description\": response.get(\"Job_Description\", \"\"),\n",
    "                \"messages\":[AIMessage(response)],\n",
    "            },\n",
    "        )\n",
    "    except Exception as e:\n",
    "        logging.error(f\"Error in extractor_agent: {e}\")\n",
    "        return Command(\"error_or_exit\", update={\"messages\": [AIMessage(f\"Error extracting information: {e}\")], \"email\": \"\", \"job_role\": \"\", \"job_description\": \"\"})"
   ]
  },
  {
   "cell_type": "markdown",
   "id": "668e7e29",
   "metadata": {},
   "source": [
    "RAG AGENT CODE"
   ]
  },
  {
   "cell_type": "code",
   "execution_count": 153,
   "id": "830933d1",
   "metadata": {},
   "outputs": [],
   "source": [
    "from langchain_chroma import Chroma\n",
    "from langchain_core.tools import tool\n",
    "from pathlib import Path\n",
    "from utils import get_embeddings"
   ]
  },
  {
   "cell_type": "code",
   "execution_count": 154,
   "id": "e22fee22",
   "metadata": {},
   "outputs": [],
   "source": [
    "# get_embeddings(Path(\"artifacts/pdfs/RahulAGowda's Resume.pdf\", embeddings=embeddings))\n",
    "\n",
    "vectorstore = Chroma(\n",
    "    collection_name=\"resume\",\n",
    "    embedding_function=embeddings,\n",
    "    persist_directory=\"artifacts/embeddings/20250613_124237\",\n",
    ")\n",
    "retriever = vectorstore.as_retriever(\n",
    "    search_type=\"similarity\",\n",
    "    search_kwargs={\"k\": 20}\n",
    ")"
   ]
  },
  {
   "cell_type": "code",
   "execution_count": 155,
   "id": "d5feb8ac",
   "metadata": {},
   "outputs": [],
   "source": [
    "from pydantic import BaseModel, Field\n",
    "from langchain_core.output_parsers import PydanticOutputParser\n",
    "\n",
    "class Format(BaseModel):  # Class names should use PascalCase\n",
    "    Email: str | None = Field(description=\"email provided in the user input\")"
   ]
  },
  {
   "cell_type": "code",
   "execution_count": 156,
   "id": "4c058bc6",
   "metadata": {},
   "outputs": [],
   "source": [
    "@tool\n",
    "def retriever_tool(query: str) -> str:\n",
    "    \"\"\"\n",
    "    This tool searches and returns the information from the Stock Market Performance 2024 document.\n",
    "    \"\"\"\n",
    "\n",
    "    docs = retriever.invoke(query)\n",
    "\n",
    "    if not docs:\n",
    "        return \"I found no relevant information in the Stock Market Performance 2024 document.\"\n",
    "    \n",
    "    results = []\n",
    "    for i, doc in enumerate(docs):\n",
    "        results.append(f\"Document {i+1}:\\n{doc.page_content}\")\n",
    "    \n",
    "    return \"\\n\\n\".join(results)\n",
    "\n",
    "\n",
    "tools = [retriever_tool]\n",
    "\n",
    "RAG_llm = llm.bind_tools(tools)"
   ]
  },
  {
   "cell_type": "code",
   "execution_count": 157,
   "id": "ccb2d554",
   "metadata": {},
   "outputs": [],
   "source": [
    "RAG_prompt = PromptTemplate(\n",
    "    input_variables=[\"content\"],\n",
    "    template=\n",
    "    \"\"\"\n",
    "    You are an expert career advisor and content synthesizer. Your task is to analyze the provide job role and job description and synthesize relevant information from the provided resume content to create a tailored response.\n",
    "    \n",
    "    Use the following job role and job description to guide your synthesis:\n",
    "    **Job Role**: {job_role}\n",
    "    **Job Description**: {job_description}\n",
    "    \n",
    "    **output format**:\n",
    "    **candidate_summary**: <summary of candidate's relevant experience for the role>\n",
    "    \"\"\"\n",
    ")\n",
    "\n",
    "RAG_chain = RAG_prompt | RAG_llm\n",
    "\n",
    "def rag_agent(state: State) -> Command[Literal[\"Mailer\"]]:\n",
    "    \"\"\"an agent that retrieves relevant information from the resume based on the job role and job description provided by the user\"\"\"\n",
    "    try:\n",
    "        messages_content = state.get(\"messages\", [])\n",
    "        job_role = messages_content[0] if len(messages_content) > 0 else \"\"\n",
    "        job_description = messages_content[1] if len(messages_content) > 1 else \"\"\n",
    "        \n",
    "        logging.info(f\"Retrieving information for job role: {job_role} and job description: {job_description}\")\n",
    "        \n",
    "        logging.info(f\"Messages content: {messages_content}\")\n",
    "        \n",
    "        if not job_role and not job_description:  # edge case to handle empty messages\n",
    "            print(\"No messages found in state.\")\n",
    "            return \"error_or_exit\"\n",
    "        response = RAG_chain.invoke({\"job_role\": job_role, \"job_description\": job_description})\n",
    "        \n",
    "        logging.info(f\"Retrieved candidate summary: {response.content}\")\n",
    "        \n",
    "        return Command(\n",
    "            \"Mailer\",\n",
    "            update = {\n",
    "                \"candidate_summary\": response.content,\n",
    "                \"messages\": [AIMessage(response)],\n",
    "            },\n",
    "        )\n",
    "    except Exception as e:\n",
    "        logging.error(f\"Error in rag_agent: {e}\")"
   ]
  },
  {
   "cell_type": "markdown",
   "id": "ff34f024",
   "metadata": {},
   "source": [
    "MAILER AGENT CODE"
   ]
  },
  {
   "cell_type": "code",
   "execution_count": 158,
   "id": "58fecd42",
   "metadata": {},
   "outputs": [],
   "source": [
    "from langchain_google_community import GmailToolkit\n",
    "\n",
    "toolkit = GmailToolkit()"
   ]
  },
  {
   "cell_type": "code",
   "execution_count": 159,
   "id": "e94d0946",
   "metadata": {},
   "outputs": [],
   "source": [
    "mail_prompt = PromptTemplate(\n",
    "    input_variables=[\"candidate_summary\", \"target_role\", \"company_name\"],\n",
    "    template=\"\"\"\n",
    "    You're an expert email writer. Your job is to draft a professional and concise email from a job candidate to a recruiter.\n",
    "\n",
    "    **Goal:** Highlight the candidate's suitability for the **{target_role}** at **{company_name}** using the provided summary.\n",
    "\n",
    "    **Information to use:**\n",
    "    - **Candidate Summary:** {candidate_summary} (This is the core content for the email body)\n",
    "    - **Target Role:** {target_role}\n",
    "    - **Company Name:** {company_name} (If not specific, use \"your company\" or \"your team\")\n",
    "\n",
    "    **Email Guidelines:**\n",
    "    - **Subject:** Clear and professional (e.g., \"Application for [Target Role]\").\n",
    "    - **Greeting:** Polite and standard (e.g., \"Dear Hiring Team,\").\n",
    "    - **Body:** Briefly state interest, then integrate the `candidate_summary` to show a strong match with the role. Be direct and impactful.\n",
    "    - **Closing:** Professional call to action for an interview, followed by a standard closing.\n",
    "    - **Signature:** Use \"Candidate Name\" as a placeholder.\n",
    "    - **Tone:** Confident, professional, and to the point.\n",
    "\n",
    "    **Draft the complete email. Do NOT include any extra text before or after the email.**\n",
    "    \"\"\"\n",
    ")\n",
    "\n",
    "llm = llm.bind_tools(tools)\n",
    "\n",
    "mail_chain = mail_prompt | llm\n",
    "\n",
    "def mail_agent(state: State) -> Literal[\"END\"]:\n",
    "    \"\"\"an agent that composes the final professional email to recruiters.\"\"\"\n",
    "    \"An agent that composes the final professional email to recruiters.\"\n",
    "    \n",
    "    try:\n",
    "        # Retrieve all necessary information from the state\n",
    "        candidate_summary = state.get(\"candidate_summary\", \"\")\n",
    "        candidate_email = state.get(\"email\", \"\") # Using 'email' from state as candidate_email\n",
    "        target_role = state.get(\"role\", \"\")\n",
    "        job_description = state.get(\"job_description\", \"\")\n",
    "        company_name = state.get(\"company_name\", \"your team\") # Use a default if not found\n",
    "        \n",
    "        logging.info(f\"Composing email with candidate summary: {candidate_summary}, target role: {target_role}, job description: {job_description}, company name: {company_name}\")\n",
    "\n",
    "        if not all([candidate_summary, candidate_email, target_role, job_description]):\n",
    "            print(\"Missing essential information to compose email (summary, email, role, or job description).\")\n",
    "            return \"error_node\"\n",
    "        final_email_content = mail_chain.invoke({\n",
    "            \"candidate_summary\": candidate_summary,\n",
    "            \"candidate_email\": candidate_email,\n",
    "            \"target_role\": target_role,\n",
    "            \"job_description\": job_description,\n",
    "            \"company_name\": company_name\n",
    "        })\n",
    "        \n",
    "        logging.info(f\"Final email content generated: {final_email_content}\")\n",
    "\n",
    "        print(f\"Generated Email Subject: (See email content for subject)\")\n",
    "        print(f\"Generated Email Content: \\n{final_email_content}\")\n",
    "\n",
    "        state[\"final_email_content\"] = final_email_content\n",
    "\n",
    "        return \"END\"\n",
    "    except Exception as e:\n",
    "        logging.error(f\"Error in mail_agent: {e}\")\n",
    "        return \"error_node\""
   ]
  },
  {
   "cell_type": "code",
   "execution_count": 160,
   "id": "8c215152",
   "metadata": {},
   "outputs": [],
   "source": [
    "graph = StateGraph(State)\n",
    "\n",
    "graph.add_node(\"extractor_agent\",extractor_agent)\n",
    "graph.add_node(\"rag_agent\",rag_agent)\n",
    "graph.add_node(\"Mailer\",mail_agent)\n",
    "\n",
    "graph.add_edge(START, \"extractor_agent\")\n",
    "graph.add_edge(\"extractor_agent\", \"rag_agent\")\n",
    "graph.add_edge(\"rag_agent\", \"Mailer\")\n",
    "graph.add_edge(\"Mailer\", END)\n",
    "\n",
    "app = graph.compile()"
   ]
  },
  {
   "cell_type": "code",
   "execution_count": 161,
   "id": "78593fd4",
   "metadata": {},
   "outputs": [
    {
     "data": {
      "image/png": "[encoded data removed]",
      "text/plain": [
       "<IPython.core.display.Image object>"
      ]
     },
     "metadata": {},
     "output_type": "display_data"
    }
   ],
   "source": [
    "from IPython.display import Image, display\n",
    "\n",
    "display(Image(app.get_graph().draw_mermaid_png()))"
   ]
  },
  {
   "cell_type": "code",
   "execution_count": 165,
   "id": "5303b962",
   "metadata": {},
   "outputs": [
    {
     "ename": "TypeError",
     "evalue": "Command.__init__() takes 1 positional argument but 2 positional arguments (and 1 keyword-only argument) were given",
     "output_type": "error",
     "traceback": [
      "\u001b[31m---------------------------------------------------------------------------\u001b[39m",
      "\u001b[31mAttributeError\u001b[39m                            Traceback (most recent call last)",
      "\u001b[36mCell\u001b[39m\u001b[36m \u001b[39m\u001b[32mIn[152]\u001b[39m\u001b[32m, line 37\u001b[39m, in \u001b[36mextractor_agent\u001b[39m\u001b[34m(state)\u001b[39m\n\u001b[32m     32\u001b[39m     logging.info(\u001b[33mf\u001b[39m\u001b[33m\"\u001b[39m\u001b[33mExtracted information: \u001b[39m\u001b[38;5;132;01m{\u001b[39;00mresponse\u001b[38;5;132;01m}\u001b[39;00m\u001b[33m\"\u001b[39m)\n\u001b[32m     34\u001b[39m     \u001b[38;5;28;01mreturn\u001b[39;00m Command(\n\u001b[32m     35\u001b[39m         \u001b[33m\"\u001b[39m\u001b[33mrag_agent\u001b[39m\u001b[33m\"\u001b[39m,\n\u001b[32m     36\u001b[39m         update={\n\u001b[32m---> \u001b[39m\u001b[32m37\u001b[39m             \u001b[33m\"\u001b[39m\u001b[33memail\u001b[39m\u001b[33m\"\u001b[39m: \u001b[43mresponse\u001b[49m\u001b[43m.\u001b[49m\u001b[43mget\u001b[49m(\u001b[33m\"\u001b[39m\u001b[33mEmail\u001b[39m\u001b[33m\"\u001b[39m, \u001b[33m\"\u001b[39m\u001b[33m\"\u001b[39m),\n\u001b[32m     38\u001b[39m             \u001b[33m\"\u001b[39m\u001b[33mjob_role\u001b[39m\u001b[33m\"\u001b[39m: response.get(\u001b[33m\"\u001b[39m\u001b[33mRole\u001b[39m\u001b[33m\"\u001b[39m, \u001b[33m\"\u001b[39m\u001b[33m\"\u001b[39m),\n\u001b[32m     39\u001b[39m             \u001b[33m\"\u001b[39m\u001b[33mjob_description\u001b[39m\u001b[33m\"\u001b[39m: response.get(\u001b[33m\"\u001b[39m\u001b[33mJob_Description\u001b[39m\u001b[33m\"\u001b[39m, \u001b[33m\"\u001b[39m\u001b[33m\"\u001b[39m),\n\u001b[32m     40\u001b[39m             \u001b[33m\"\u001b[39m\u001b[33mmessages\u001b[39m\u001b[33m\"\u001b[39m:[AIMessage(response)],\n\u001b[32m     41\u001b[39m         },\n\u001b[32m     42\u001b[39m     )\n\u001b[32m     43\u001b[39m \u001b[38;5;28;01mexcept\u001b[39;00m \u001b[38;5;167;01mException\u001b[39;00m \u001b[38;5;28;01mas\u001b[39;00m e:\n",
      "\u001b[36mFile \u001b[39m\u001b[32mr:\\MailMate\\.venv\\Lib\\site-packages\\pydantic\\main.py:991\u001b[39m, in \u001b[36mBaseModel.__getattr__\u001b[39m\u001b[34m(self, item)\u001b[39m\n\u001b[32m    989\u001b[39m \u001b[38;5;28;01melse\u001b[39;00m:\n\u001b[32m    990\u001b[39m     \u001b[38;5;66;03m# this is the current error\u001b[39;00m\n\u001b[32m--> \u001b[39m\u001b[32m991\u001b[39m     \u001b[38;5;28;01mraise\u001b[39;00m \u001b[38;5;167;01mAttributeError\u001b[39;00m(\u001b[33mf\u001b[39m\u001b[33m'\u001b[39m\u001b[38;5;132;01m{\u001b[39;00m\u001b[38;5;28mtype\u001b[39m(\u001b[38;5;28mself\u001b[39m).\u001b[34m__name__\u001b[39m\u001b[38;5;132;01m!r}\u001b[39;00m\u001b[33m object has no attribute \u001b[39m\u001b[38;5;132;01m{\u001b[39;00mitem\u001b[38;5;132;01m!r}\u001b[39;00m\u001b[33m'\u001b[39m)\n",
      "\u001b[31mAttributeError\u001b[39m: 'Format' object has no attribute 'get'",
      "\nDuring handling of the above exception, another exception occurred:\n",
      "\u001b[31mTypeError\u001b[39m                                 Traceback (most recent call last)",
      "\u001b[36mCell\u001b[39m\u001b[36m \u001b[39m\u001b[32mIn[165]\u001b[39m\u001b[32m, line 15\u001b[39m\n\u001b[32m      1\u001b[39m user_query = \u001b[33m\"\"\"\u001b[39m\u001b[33m🚀 We\u001b[39m\u001b[33m'\u001b[39m\u001b[33mre Hiring | Industrial AI - Machine Learning Engineer\u001b[39m\n\u001b[32m      2\u001b[39m \u001b[33m 📍 Location: Warsaw, Poland (Hybrid)\u001b[39m\n\u001b[32m      3\u001b[39m \u001b[33mWe’re looking for a Machine Learning Engineer passionate about Industrial AI to join our team in Warsaw. If you\u001b[39m\u001b[33m'\u001b[39m\u001b[33mre experienced in Document AI / Intelligent Document Processing and have a strong grasp of Python, ML, OCR, and Generative AI, this could be your next challenge!\u001b[39m\n\u001b[32m   (...)\u001b[39m\u001b[32m     12\u001b[39m \u001b[33m Or feel free to share with someone in your network who’d be a great fit.\u001b[39m\n\u001b[32m     13\u001b[39m \u001b[33mrahulag5282@gmail.com\u001b[39m\u001b[33m\"\"\"\u001b[39m\n\u001b[32m---> \u001b[39m\u001b[32m15\u001b[39m response = \u001b[43mapp\u001b[49m\u001b[43m.\u001b[49m\u001b[43minvoke\u001b[49m\u001b[43m(\u001b[49m\n\u001b[32m     16\u001b[39m \u001b[43m    \u001b[49m\u001b[43m{\u001b[49m\u001b[33;43m\"\u001b[39;49m\u001b[33;43mmessages\u001b[39;49m\u001b[33;43m\"\u001b[39;49m\u001b[43m:\u001b[49m\u001b[43m \u001b[49m\u001b[43m[\u001b[49m\u001b[43m{\u001b[49m\u001b[33;43m\"\u001b[39;49m\u001b[33;43mrole\u001b[39;49m\u001b[33;43m\"\u001b[39;49m\u001b[43m:\u001b[49m\u001b[43m \u001b[49m\u001b[33;43m\"\u001b[39;49m\u001b[33;43muser\u001b[39;49m\u001b[33;43m\"\u001b[39;49m\u001b[43m,\u001b[49m\u001b[43m \u001b[49m\u001b[33;43m\"\u001b[39;49m\u001b[33;43mcontent\u001b[39;49m\u001b[33;43m\"\u001b[39;49m\u001b[43m:\u001b[49m\u001b[43m \u001b[49m\u001b[43muser_query\u001b[49m\u001b[43m}\u001b[49m\u001b[43m]\u001b[49m\u001b[43m}\u001b[49m\u001b[43m,\u001b[49m\n\u001b[32m     17\u001b[39m \u001b[43m    \u001b[49m\u001b[43mstream_mode\u001b[49m\u001b[43m=\u001b[49m\u001b[33;43m\"\u001b[39;49m\u001b[33;43mvalues\u001b[39;49m\u001b[33;43m\"\u001b[39;49m\u001b[43m  \u001b[49m\u001b[38;5;66;43;03m# Use stream_mode instead of stream\u001b[39;49;00m\n\u001b[32m     18\u001b[39m \u001b[43m)\u001b[49m\n\u001b[32m     20\u001b[39m \u001b[38;5;66;03m# Process the streamed response\u001b[39;00m\n\u001b[32m     21\u001b[39m \u001b[38;5;28;01mfor\u001b[39;00m event \u001b[38;5;129;01min\u001b[39;00m response:\n",
      "\u001b[36mFile \u001b[39m\u001b[32mr:\\MailMate\\.venv\\Lib\\site-packages\\langgraph\\pregel\\__init__.py:2719\u001b[39m, in \u001b[36mPregel.invoke\u001b[39m\u001b[34m(self, input, config, stream_mode, output_keys, interrupt_before, interrupt_after, checkpoint_during, debug, **kwargs)\u001b[39m\n\u001b[32m   2716\u001b[39m chunks: \u001b[38;5;28mlist\u001b[39m[Union[\u001b[38;5;28mdict\u001b[39m[\u001b[38;5;28mstr\u001b[39m, Any], Any]] = []\n\u001b[32m   2717\u001b[39m interrupts: \u001b[38;5;28mlist\u001b[39m[Interrupt] = []\n\u001b[32m-> \u001b[39m\u001b[32m2719\u001b[39m \u001b[43m\u001b[49m\u001b[38;5;28;43;01mfor\u001b[39;49;00m\u001b[43m \u001b[49m\u001b[43mchunk\u001b[49m\u001b[43m \u001b[49m\u001b[38;5;129;43;01min\u001b[39;49;00m\u001b[43m \u001b[49m\u001b[38;5;28;43mself\u001b[39;49m\u001b[43m.\u001b[49m\u001b[43mstream\u001b[49m\u001b[43m(\u001b[49m\n\u001b[32m   2720\u001b[39m \u001b[43m    \u001b[49m\u001b[38;5;28;43minput\u001b[39;49m\u001b[43m,\u001b[49m\n\u001b[32m   2721\u001b[39m \u001b[43m    \u001b[49m\u001b[43mconfig\u001b[49m\u001b[43m,\u001b[49m\n\u001b[32m   2722\u001b[39m \u001b[43m    \u001b[49m\u001b[43mstream_mode\u001b[49m\u001b[43m=\u001b[49m\u001b[43mstream_mode\u001b[49m\u001b[43m,\u001b[49m\n\u001b[32m   2723\u001b[39m \u001b[43m    \u001b[49m\u001b[43moutput_keys\u001b[49m\u001b[43m=\u001b[49m\u001b[43moutput_keys\u001b[49m\u001b[43m,\u001b[49m\n\u001b[32m   2724\u001b[39m \u001b[43m    \u001b[49m\u001b[43minterrupt_before\u001b[49m\u001b[43m=\u001b[49m\u001b[43minterrupt_before\u001b[49m\u001b[43m,\u001b[49m\n\u001b[32m   2725\u001b[39m \u001b[43m    \u001b[49m\u001b[43minterrupt_after\u001b[49m\u001b[43m=\u001b[49m\u001b[43minterrupt_after\u001b[49m\u001b[43m,\u001b[49m\n\u001b[32m   2726\u001b[39m \u001b[43m    \u001b[49m\u001b[43mcheckpoint_during\u001b[49m\u001b[43m=\u001b[49m\u001b[43mcheckpoint_during\u001b[49m\u001b[43m,\u001b[49m\n\u001b[32m   2727\u001b[39m \u001b[43m    \u001b[49m\u001b[43mdebug\u001b[49m\u001b[43m=\u001b[49m\u001b[43mdebug\u001b[49m\u001b[43m,\u001b[49m\n\u001b[32m   2728\u001b[39m \u001b[43m    \u001b[49m\u001b[43m*\u001b[49m\u001b[43m*\u001b[49m\u001b[43mkwargs\u001b[49m\u001b[43m,\u001b[49m\n\u001b[32m   2729\u001b[39m \u001b[43m\u001b[49m\u001b[43m)\u001b[49m\u001b[43m:\u001b[49m\n\u001b[32m   2730\u001b[39m \u001b[43m    \u001b[49m\u001b[38;5;28;43;01mif\u001b[39;49;00m\u001b[43m \u001b[49m\u001b[43mstream_mode\u001b[49m\u001b[43m \u001b[49m\u001b[43m==\u001b[49m\u001b[43m \u001b[49m\u001b[33;43m\"\u001b[39;49m\u001b[33;43mvalues\u001b[39;49m\u001b[33;43m\"\u001b[39;49m\u001b[43m:\u001b[49m\n\u001b[32m   2731\u001b[39m \u001b[43m        \u001b[49m\u001b[38;5;28;43;01mif\u001b[39;49;00m\u001b[43m \u001b[49m\u001b[43m(\u001b[49m\n\u001b[32m   2732\u001b[39m \u001b[43m            \u001b[49m\u001b[38;5;28;43misinstance\u001b[39;49m\u001b[43m(\u001b[49m\u001b[43mchunk\u001b[49m\u001b[43m,\u001b[49m\u001b[43m \u001b[49m\u001b[38;5;28;43mdict\u001b[39;49m\u001b[43m)\u001b[49m\n\u001b[32m   2733\u001b[39m \u001b[43m            \u001b[49m\u001b[38;5;129;43;01mand\u001b[39;49;00m\u001b[43m \u001b[49m\u001b[43m(\u001b[49m\u001b[43mints\u001b[49m\u001b[43m \u001b[49m\u001b[43m:=\u001b[49m\u001b[43m \u001b[49m\u001b[43mchunk\u001b[49m\u001b[43m.\u001b[49m\u001b[43mget\u001b[49m\u001b[43m(\u001b[49m\u001b[43mINTERRUPT\u001b[49m\u001b[43m)\u001b[49m\u001b[43m)\u001b[49m\u001b[43m \u001b[49m\u001b[38;5;129;43;01mis\u001b[39;49;00m\u001b[43m \u001b[49m\u001b[38;5;129;43;01mnot\u001b[39;49;00m\u001b[43m \u001b[49m\u001b[38;5;28;43;01mNone\u001b[39;49;00m\n\u001b[32m   2734\u001b[39m \u001b[43m        \u001b[49m\u001b[43m)\u001b[49m\u001b[43m:\u001b[49m\n",
      "\u001b[36mFile \u001b[39m\u001b[32mr:\\MailMate\\.venv\\Lib\\site-packages\\langgraph\\pregel\\__init__.py:2436\u001b[39m, in \u001b[36mPregel.stream\u001b[39m\u001b[34m(self, input, config, stream_mode, output_keys, interrupt_before, interrupt_after, checkpoint_during, debug, subgraphs)\u001b[39m\n\u001b[32m   2434\u001b[39m         \u001b[38;5;28;01mfor\u001b[39;00m task \u001b[38;5;129;01min\u001b[39;00m loop.match_cached_writes():\n\u001b[32m   2435\u001b[39m             loop.output_writes(task.id, task.writes, cached=\u001b[38;5;28;01mTrue\u001b[39;00m)\n\u001b[32m-> \u001b[39m\u001b[32m2436\u001b[39m \u001b[43m        \u001b[49m\u001b[38;5;28;43;01mfor\u001b[39;49;00m\u001b[43m \u001b[49m\u001b[43m_\u001b[49m\u001b[43m \u001b[49m\u001b[38;5;129;43;01min\u001b[39;49;00m\u001b[43m \u001b[49m\u001b[43mrunner\u001b[49m\u001b[43m.\u001b[49m\u001b[43mtick\u001b[49m\u001b[43m(\u001b[49m\n\u001b[32m   2437\u001b[39m \u001b[43m            \u001b[49m\u001b[43m[\u001b[49m\u001b[43mt\u001b[49m\u001b[43m \u001b[49m\u001b[38;5;28;43;01mfor\u001b[39;49;00m\u001b[43m \u001b[49m\u001b[43mt\u001b[49m\u001b[43m \u001b[49m\u001b[38;5;129;43;01min\u001b[39;49;00m\u001b[43m \u001b[49m\u001b[43mloop\u001b[49m\u001b[43m.\u001b[49m\u001b[43mtasks\u001b[49m\u001b[43m.\u001b[49m\u001b[43mvalues\u001b[49m\u001b[43m(\u001b[49m\u001b[43m)\u001b[49m\u001b[43m \u001b[49m\u001b[38;5;28;43;01mif\u001b[39;49;00m\u001b[43m \u001b[49m\u001b[38;5;129;43;01mnot\u001b[39;49;00m\u001b[43m \u001b[49m\u001b[43mt\u001b[49m\u001b[43m.\u001b[49m\u001b[43mwrites\u001b[49m\u001b[43m]\u001b[49m\u001b[43m,\u001b[49m\n\u001b[32m   2438\u001b[39m \u001b[43m            \u001b[49m\u001b[43mtimeout\u001b[49m\u001b[43m=\u001b[49m\u001b[38;5;28;43mself\u001b[39;49m\u001b[43m.\u001b[49m\u001b[43mstep_timeout\u001b[49m\u001b[43m,\u001b[49m\n\u001b[32m   2439\u001b[39m \u001b[43m            \u001b[49m\u001b[43mget_waiter\u001b[49m\u001b[43m=\u001b[49m\u001b[43mget_waiter\u001b[49m\u001b[43m,\u001b[49m\n\u001b[32m   2440\u001b[39m \u001b[43m            \u001b[49m\u001b[43mschedule_task\u001b[49m\u001b[43m=\u001b[49m\u001b[43mloop\u001b[49m\u001b[43m.\u001b[49m\u001b[43maccept_push\u001b[49m\u001b[43m,\u001b[49m\n\u001b[32m   2441\u001b[39m \u001b[43m        \u001b[49m\u001b[43m)\u001b[49m\u001b[43m:\u001b[49m\n\u001b[32m   2442\u001b[39m \u001b[43m            \u001b[49m\u001b[38;5;66;43;03m# emit output\u001b[39;49;00m\n\u001b[32m   2443\u001b[39m \u001b[43m            \u001b[49m\u001b[38;5;28;43;01myield from\u001b[39;49;00m\u001b[43m \u001b[49m\u001b[43moutput\u001b[49m\u001b[43m(\u001b[49m\u001b[43m)\u001b[49m\n\u001b[32m   2444\u001b[39m \u001b[38;5;66;03m# emit output\u001b[39;00m\n",
      "\u001b[36mFile \u001b[39m\u001b[32mr:\\MailMate\\.venv\\Lib\\site-packages\\langgraph\\pregel\\runner.py:161\u001b[39m, in \u001b[36mPregelRunner.tick\u001b[39m\u001b[34m(self, tasks, reraise, timeout, retry_policy, get_waiter, schedule_task)\u001b[39m\n\u001b[32m    159\u001b[39m t = tasks[\u001b[32m0\u001b[39m]\n\u001b[32m    160\u001b[39m \u001b[38;5;28;01mtry\u001b[39;00m:\n\u001b[32m--> \u001b[39m\u001b[32m161\u001b[39m     \u001b[43mrun_with_retry\u001b[49m\u001b[43m(\u001b[49m\n\u001b[32m    162\u001b[39m \u001b[43m        \u001b[49m\u001b[43mt\u001b[49m\u001b[43m,\u001b[49m\n\u001b[32m    163\u001b[39m \u001b[43m        \u001b[49m\u001b[43mretry_policy\u001b[49m\u001b[43m,\u001b[49m\n\u001b[32m    164\u001b[39m \u001b[43m        \u001b[49m\u001b[43mconfigurable\u001b[49m\u001b[43m=\u001b[49m\u001b[43m{\u001b[49m\n\u001b[32m    165\u001b[39m \u001b[43m            \u001b[49m\u001b[43mCONFIG_KEY_CALL\u001b[49m\u001b[43m:\u001b[49m\u001b[43m \u001b[49m\u001b[43mpartial\u001b[49m\u001b[43m(\u001b[49m\n\u001b[32m    166\u001b[39m \u001b[43m                \u001b[49m\u001b[43m_call\u001b[49m\u001b[43m,\u001b[49m\n\u001b[32m    167\u001b[39m \u001b[43m                \u001b[49m\u001b[43mweakref\u001b[49m\u001b[43m.\u001b[49m\u001b[43mref\u001b[49m\u001b[43m(\u001b[49m\u001b[43mt\u001b[49m\u001b[43m)\u001b[49m\u001b[43m,\u001b[49m\n\u001b[32m    168\u001b[39m \u001b[43m                \u001b[49m\u001b[43mretry\u001b[49m\u001b[43m=\u001b[49m\u001b[43mretry_policy\u001b[49m\u001b[43m,\u001b[49m\n\u001b[32m    169\u001b[39m \u001b[43m                \u001b[49m\u001b[43mfutures\u001b[49m\u001b[43m=\u001b[49m\u001b[43mweakref\u001b[49m\u001b[43m.\u001b[49m\u001b[43mref\u001b[49m\u001b[43m(\u001b[49m\u001b[43mfutures\u001b[49m\u001b[43m)\u001b[49m\u001b[43m,\u001b[49m\n\u001b[32m    170\u001b[39m \u001b[43m                \u001b[49m\u001b[43mschedule_task\u001b[49m\u001b[43m=\u001b[49m\u001b[43mschedule_task\u001b[49m\u001b[43m,\u001b[49m\n\u001b[32m    171\u001b[39m \u001b[43m                \u001b[49m\u001b[43msubmit\u001b[49m\u001b[43m=\u001b[49m\u001b[38;5;28;43mself\u001b[39;49m\u001b[43m.\u001b[49m\u001b[43msubmit\u001b[49m\u001b[43m,\u001b[49m\n\u001b[32m    172\u001b[39m \u001b[43m            \u001b[49m\u001b[43m)\u001b[49m\u001b[43m,\u001b[49m\n\u001b[32m    173\u001b[39m \u001b[43m        \u001b[49m\u001b[43m}\u001b[49m\u001b[43m,\u001b[49m\n\u001b[32m    174\u001b[39m \u001b[43m    \u001b[49m\u001b[43m)\u001b[49m\n\u001b[32m    175\u001b[39m     \u001b[38;5;28mself\u001b[39m.commit(t, \u001b[38;5;28;01mNone\u001b[39;00m)\n\u001b[32m    176\u001b[39m \u001b[38;5;28;01mexcept\u001b[39;00m \u001b[38;5;167;01mException\u001b[39;00m \u001b[38;5;28;01mas\u001b[39;00m exc:\n",
      "\u001b[36mFile \u001b[39m\u001b[32mr:\\MailMate\\.venv\\Lib\\site-packages\\langgraph\\pregel\\retry.py:40\u001b[39m, in \u001b[36mrun_with_retry\u001b[39m\u001b[34m(task, retry_policy, configurable)\u001b[39m\n\u001b[32m     38\u001b[39m     task.writes.clear()\n\u001b[32m     39\u001b[39m     \u001b[38;5;66;03m# run the task\u001b[39;00m\n\u001b[32m---> \u001b[39m\u001b[32m40\u001b[39m     \u001b[38;5;28;01mreturn\u001b[39;00m \u001b[43mtask\u001b[49m\u001b[43m.\u001b[49m\u001b[43mproc\u001b[49m\u001b[43m.\u001b[49m\u001b[43minvoke\u001b[49m\u001b[43m(\u001b[49m\u001b[43mtask\u001b[49m\u001b[43m.\u001b[49m\u001b[43minput\u001b[49m\u001b[43m,\u001b[49m\u001b[43m \u001b[49m\u001b[43mconfig\u001b[49m\u001b[43m)\u001b[49m\n\u001b[32m     41\u001b[39m \u001b[38;5;28;01mexcept\u001b[39;00m ParentCommand \u001b[38;5;28;01mas\u001b[39;00m exc:\n\u001b[32m     42\u001b[39m     ns: \u001b[38;5;28mstr\u001b[39m = config[CONF][CONFIG_KEY_CHECKPOINT_NS]\n",
      "\u001b[36mFile \u001b[39m\u001b[32mr:\\MailMate\\.venv\\Lib\\site-packages\\langgraph\\utils\\runnable.py:623\u001b[39m, in \u001b[36mRunnableSeq.invoke\u001b[39m\u001b[34m(self, input, config, **kwargs)\u001b[39m\n\u001b[32m    621\u001b[39m     \u001b[38;5;66;03m# run in context\u001b[39;00m\n\u001b[32m    622\u001b[39m     \u001b[38;5;28;01mwith\u001b[39;00m set_config_context(config, run) \u001b[38;5;28;01mas\u001b[39;00m context:\n\u001b[32m--> \u001b[39m\u001b[32m623\u001b[39m         \u001b[38;5;28minput\u001b[39m = \u001b[43mcontext\u001b[49m\u001b[43m.\u001b[49m\u001b[43mrun\u001b[49m\u001b[43m(\u001b[49m\u001b[43mstep\u001b[49m\u001b[43m.\u001b[49m\u001b[43minvoke\u001b[49m\u001b[43m,\u001b[49m\u001b[43m \u001b[49m\u001b[38;5;28;43minput\u001b[39;49m\u001b[43m,\u001b[49m\u001b[43m \u001b[49m\u001b[43mconfig\u001b[49m\u001b[43m,\u001b[49m\u001b[43m \u001b[49m\u001b[43m*\u001b[49m\u001b[43m*\u001b[49m\u001b[43mkwargs\u001b[49m\u001b[43m)\u001b[49m\n\u001b[32m    624\u001b[39m \u001b[38;5;28;01melse\u001b[39;00m:\n\u001b[32m    625\u001b[39m     \u001b[38;5;28minput\u001b[39m = step.invoke(\u001b[38;5;28minput\u001b[39m, config)\n",
      "\u001b[36mFile \u001b[39m\u001b[32mr:\\MailMate\\.venv\\Lib\\site-packages\\langgraph\\utils\\runnable.py:377\u001b[39m, in \u001b[36mRunnableCallable.invoke\u001b[39m\u001b[34m(self, input, config, **kwargs)\u001b[39m\n\u001b[32m    375\u001b[39m         run_manager.on_chain_end(ret)\n\u001b[32m    376\u001b[39m \u001b[38;5;28;01melse\u001b[39;00m:\n\u001b[32m--> \u001b[39m\u001b[32m377\u001b[39m     ret = \u001b[38;5;28;43mself\u001b[39;49m\u001b[43m.\u001b[49m\u001b[43mfunc\u001b[49m\u001b[43m(\u001b[49m\u001b[43m*\u001b[49m\u001b[43margs\u001b[49m\u001b[43m,\u001b[49m\u001b[43m \u001b[49m\u001b[43m*\u001b[49m\u001b[43m*\u001b[49m\u001b[43mkwargs\u001b[49m\u001b[43m)\u001b[49m\n\u001b[32m    378\u001b[39m \u001b[38;5;28;01mif\u001b[39;00m \u001b[38;5;28mself\u001b[39m.recurse \u001b[38;5;129;01mand\u001b[39;00m \u001b[38;5;28misinstance\u001b[39m(ret, Runnable):\n\u001b[32m    379\u001b[39m     \u001b[38;5;28;01mreturn\u001b[39;00m ret.invoke(\u001b[38;5;28minput\u001b[39m, config)\n",
      "\u001b[36mCell\u001b[39m\u001b[36m \u001b[39m\u001b[32mIn[152]\u001b[39m\u001b[32m, line 45\u001b[39m, in \u001b[36mextractor_agent\u001b[39m\u001b[34m(state)\u001b[39m\n\u001b[32m     43\u001b[39m \u001b[38;5;28;01mexcept\u001b[39;00m \u001b[38;5;167;01mException\u001b[39;00m \u001b[38;5;28;01mas\u001b[39;00m e:\n\u001b[32m     44\u001b[39m     logging.error(\u001b[33mf\u001b[39m\u001b[33m\"\u001b[39m\u001b[33mError in extractor_agent: \u001b[39m\u001b[38;5;132;01m{\u001b[39;00me\u001b[38;5;132;01m}\u001b[39;00m\u001b[33m\"\u001b[39m)\n\u001b[32m---> \u001b[39m\u001b[32m45\u001b[39m     \u001b[38;5;28;01mreturn\u001b[39;00m \u001b[43mCommand\u001b[49m\u001b[43m(\u001b[49m\u001b[33;43m\"\u001b[39;49m\u001b[33;43merror_or_exit\u001b[39;49m\u001b[33;43m\"\u001b[39;49m\u001b[43m,\u001b[49m\u001b[43m \u001b[49m\u001b[43mupdate\u001b[49m\u001b[43m=\u001b[49m\u001b[43m{\u001b[49m\u001b[33;43m\"\u001b[39;49m\u001b[33;43mmessages\u001b[39;49m\u001b[33;43m\"\u001b[39;49m\u001b[43m:\u001b[49m\u001b[43m \u001b[49m\u001b[43m[\u001b[49m\u001b[43mAIMessage\u001b[49m\u001b[43m(\u001b[49m\u001b[33;43mf\u001b[39;49m\u001b[33;43m\"\u001b[39;49m\u001b[33;43mError extracting information: \u001b[39;49m\u001b[38;5;132;43;01m{\u001b[39;49;00m\u001b[43me\u001b[49m\u001b[38;5;132;43;01m}\u001b[39;49;00m\u001b[33;43m\"\u001b[39;49m\u001b[43m)\u001b[49m\u001b[43m]\u001b[49m\u001b[43m,\u001b[49m\u001b[43m \u001b[49m\u001b[33;43m\"\u001b[39;49m\u001b[33;43memail\u001b[39;49m\u001b[33;43m\"\u001b[39;49m\u001b[43m:\u001b[49m\u001b[43m \u001b[49m\u001b[33;43m\"\u001b[39;49m\u001b[33;43m\"\u001b[39;49m\u001b[43m,\u001b[49m\u001b[43m \u001b[49m\u001b[33;43m\"\u001b[39;49m\u001b[33;43mjob_role\u001b[39;49m\u001b[33;43m\"\u001b[39;49m\u001b[43m:\u001b[49m\u001b[43m \u001b[49m\u001b[33;43m\"\u001b[39;49m\u001b[33;43m\"\u001b[39;49m\u001b[43m,\u001b[49m\u001b[43m \u001b[49m\u001b[33;43m\"\u001b[39;49m\u001b[33;43mjob_description\u001b[39;49m\u001b[33;43m\"\u001b[39;49m\u001b[43m:\u001b[49m\u001b[43m \u001b[49m\u001b[33;43m\"\u001b[39;49m\u001b[33;43m\"\u001b[39;49m\u001b[43m}\u001b[49m\u001b[43m)\u001b[49m\n",
      "\u001b[31mTypeError\u001b[39m: Command.__init__() takes 1 positional argument but 2 positional arguments (and 1 keyword-only argument) were given",
      "During task with name 'extractor_agent' and id 'b581728e-369b-6542-7537-f452f8b84a78'"
     ]
    }
   ],
   "source": [
    "user_query = \"\"\"🚀 We're Hiring | Industrial AI - Machine Learning Engineer\n",
    " 📍 Location: Warsaw, Poland (Hybrid)\n",
    "We’re looking for a Machine Learning Engineer passionate about Industrial AI to join our team in Warsaw. If you're experienced in Document AI / Intelligent Document Processing and have a strong grasp of Python, ML, OCR, and Generative AI, this could be your next challenge!\n",
    "🔧 Your Key Responsibilities:\n",
    "Build production-grade models for image/text-based content extraction & classification\n",
    "Work directly with business teams to deliver impactful AI solutions\n",
    "Design and deploy Python/ML/OCR-based components\n",
    "Own full lifecycle: from dev to deployment and production support\n",
    "Collaborate cross-functionally with product managers and engineering teams\n",
    "\n",
    "📬 Interested? Let’s connect!\n",
    " Or feel free to share with someone in your network who’d be a great fit.\n",
    "rahulag5282@gmail.com\"\"\"\n",
    "\n",
    "response = app.invoke(\n",
    "    {\"messages\": [{\"role\": \"user\", \"content\": user_query}]},\n",
    "    stream_mode=\"values\"  # Use stream_mode instead of stream\n",
    ")\n",
    "\n",
    "# Process the streamed response\n",
    "for event in response:\n",
    "    if \"messages\" in event and event[\"messages\"]:\n",
    "        last_message = event[\"messages\"][-1]\n",
    "        # If the message has a pretty_print method\n",
    "        if hasattr(last_message, \"pretty_print\"):\n",
    "            last_message.pretty_print()\n",
    "        else:\n",
    "            # Fallback to regular printing\n",
    "            role = last_message.get(\"role\", \"unknown\")\n",
    "            content = last_message.get(\"content\", \"\")\n",
    "            print(f\"[{role.upper()}]: {content}\")"
   ]
  },
  {
   "cell_type": "code",
   "execution_count": null,
   "id": "8fff5d7a",
   "metadata": {},
   "outputs": [],
   "source": []
  }
 ],
 "metadata": {
  "kernelspec": {
   "display_name": "MailMate (3.13.3)",
   "language": "python",
   "name": "python3"
  },
  "language_info": {
   "codemirror_mode": {
    "name": "ipython",
    "version": 3
   },
   "file_extension": ".py",
   "mimetype": "text/x-python",
   "name": "python",
   "nbconvert_exporter": "python",
   "pygments_lexer": "ipython3",
   "version": "3.13.3"
  }
 },
 "nbformat": 4,
 "nbformat_minor": 5
}
