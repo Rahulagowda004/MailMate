{
 "cells": [
  {
   "cell_type": "code",
   "execution_count": 1,
   "id": "3e19a2e8",
   "metadata": {},
   "outputs": [],
   "source": [
    "from langchain_google_community import GmailToolkit\n",
    "\n",
    "toolkit = GmailToolkit()"
   ]
  },
  {
   "cell_type": "code",
   "execution_count": 2,
   "id": "631551bb",
   "metadata": {},
   "outputs": [
    {
     "data": {
      "text/plain": [
       "[GmailCreateDraft(api_resource=<googleapiclient.discovery.Resource object at 0x0000024CDC4E3380>),\n",
       " GmailSendMessage(api_resource=<googleapiclient.discovery.Resource object at 0x0000024CDC4E3380>),\n",
       " GmailSearch(api_resource=<googleapiclient.discovery.Resource object at 0x0000024CDC4E3380>),\n",
       " GmailGetMessage(api_resource=<googleapiclient.discovery.Resource object at 0x0000024CDC4E3380>),\n",
       " GmailGetThread(api_resource=<googleapiclient.discovery.Resource object at 0x0000024CDC4E3380>)]"
      ]
     },
     "execution_count": 2,
     "metadata": {},
     "output_type": "execute_result"
    }
   ],
   "source": [
    "tools = toolkit.get_tools()\n",
    "tools"
   ]
  },
  {
   "cell_type": "code",
   "execution_count": null,
   "id": "14c79634",
   "metadata": {},
   "outputs": [],
   "source": [
    "import getpass\n",
    "import os\n",
    "\n",
    "GOOGLE_API_KEY=\"\"\n",
    "\n",
    "from langchain.chat_models import init_chat_model\n",
    "\n",
    "llm = init_chat_model(\"gemini-2.0-flash\", model_provider=\"google_genai\",api_key=GOOGLE_API_KEY)"
   ]
  },
  {
   "cell_type": "code",
   "execution_count": 6,
   "id": "117c99a6",
   "metadata": {},
   "outputs": [],
   "source": [
    "from langgraph.prebuilt import create_react_agent\n",
    "\n",
    "agent_executor = create_react_agent(llm, tools)"
   ]
  },
  {
   "cell_type": "code",
   "execution_count": 11,
   "id": "5db2ca27",
   "metadata": {},
   "outputs": [
    {
     "name": "stdout",
     "output_type": "stream",
     "text": [
      "================================\u001b[1m Human Message \u001b[0m=================================\n",
      "\n",
      "send an email to rahulag5282@gmail.com saying **hi** and dont ask any further questions\n",
      "==================================\u001b[1m Ai Message \u001b[0m==================================\n",
      "Tool Calls:\n",
      "  send_gmail_message (89418165-950f-4f7c-9b0b-8812cf4ad7cd)\n",
      " Call ID: 89418165-950f-4f7c-9b0b-8812cf4ad7cd\n",
      "  Args:\n",
      "    to: ['rahulag5282@gmail.com']\n",
      "    message: hi\n",
      "    subject: hi\n",
      "=================================\u001b[1m Tool Message \u001b[0m=================================\n",
      "Name: send_gmail_message\n",
      "\n",
      "Message sent. Message Id: 19768e416d4a0f3d\n",
      "==================================\u001b[1m Ai Message \u001b[0m==================================\n",
      "\n",
      "OK. I've sent an email to rahulag5282@gmail.com with the subject \"hi\" and the message \"hi\".\n"
     ]
    }
   ],
   "source": [
    "example_query = \"send an email to rahulag5282@gmail.com saying **hi** and dont ask any further questions\"\n",
    "\n",
    "events = agent_executor.stream(\n",
    "    {\"messages\": [(\"user\", example_query)]},\n",
    "    stream_mode=\"values\",\n",
    ")\n",
    "for event in events:\n",
    "    event[\"messages\"][-1].pretty_print()"
   ]
  }
 ],
 "metadata": {
  "kernelspec": {
   "display_name": "MailMate (3.13.3)",
   "language": "python",
   "name": "python3"
  },
  "language_info": {
   "codemirror_mode": {
    "name": "ipython",
    "version": 3
   },
   "file_extension": ".py",
   "mimetype": "text/x-python",
   "name": "python",
   "nbconvert_exporter": "python",
   "pygments_lexer": "ipython3",
   "version": "3.13.3"
  }
 },
 "nbformat": 4,
 "nbformat_minor": 5
}
